{
 "cells": [
  {
   "cell_type": "code",
   "execution_count": 39,
   "id": "560470d9",
   "metadata": {},
   "outputs": [
    {
     "name": "stdout",
     "output_type": "stream",
     "text": [
      "Error: parameters should be float\n"
     ]
    }
   ],
   "source": [
    "def my_func(x1, x2, x3):\n",
    "    try:\n",
    "        x1=float(x1)\n",
    "        x2=float(x2)\n",
    "        x3=float(x3)\n",
    "        if ((x1+x2+x3)==0):\n",
    "            print(\"Not a number – denominator equals zero\")\n",
    "        else:\n",
    "            calculate=((x1+x2+x3)*(x2+x3)*x3)/(x1+x2+x3)\n",
    "            calculate= float(calculate)\n",
    "            print(caclulate)\n",
    "        \n",
    "    except:\n",
    "        print(\"Error: parameters should be float\") \n",
    "\n",
    "my_func(1,2,3)   "
   ]
  },
  {
   "cell_type": "code",
   "execution_count": 33,
   "id": "bfe8d872",
   "metadata": {},
   "outputs": [
    {
     "name": "stdout",
     "output_type": "stream",
     "text": [
      "3780.0\n"
     ]
    }
   ],
   "source": [
    "def convert(hours, minutes):\n",
    "    \n",
    "    if (hours<0 or minutes<0):\n",
    "        print(\"input error!\")\n",
    "    else:\n",
    "        hours= float(hours)\n",
    "        minutes= float(minutes)\n",
    "        second= (hours*60+minutes)*60\n",
    "        print(second)\n",
    "convert(1,3)\n",
    "    "
   ]
  },
  {
   "cell_type": "code",
   "execution_count": null,
   "id": "9172585d",
   "metadata": {},
   "outputs": [],
   "source": []
  }
 ],
 "metadata": {
  "kernelspec": {
   "display_name": "Python 3 (ipykernel)",
   "language": "python",
   "name": "python3"
  },
  "language_info": {
   "codemirror_mode": {
    "name": "ipython",
    "version": 3
   },
   "file_extension": ".py",
   "mimetype": "text/x-python",
   "name": "python",
   "nbconvert_exporter": "python",
   "pygments_lexer": "ipython3",
   "version": "3.9.7"
  }
 },
 "nbformat": 4,
 "nbformat_minor": 5
}

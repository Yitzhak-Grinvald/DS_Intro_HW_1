{
 "cells": [
  {
   "cell_type": "code",
   "execution_count": 47,
   "id": "793f69e3",
   "metadata": {},
   "outputs": [],
   "source": [
    "def my_func(x1, x2, x3):\n",
    "    try:\n",
    "        x1=x1\n",
    "        x2=x2\n",
    "        x3=x3\n",
    "        if ((x1+x2+x3)==0):\n",
    "            print(\"Not a number – denominator equals zero\")\n",
    "        else:\n",
    "            calculate=float((x1+x2+x3)*(x2+x3)*x3)/(x1+x2+x3)\n",
    "            print(calculate)\n",
    "        \n",
    "    except:\n",
    "        print(\"Error: parameters should be float\") \n"
   ]
  },
  {
   "cell_type": "code",
   "execution_count": 48,
   "id": "2218f9ff",
   "metadata": {},
   "outputs": [],
   "source": [
    "def convert(hours, minutes=0):\n",
    "    \n",
    "    if (hours<0 or minutes<0):\n",
    "        print(\"input error!\")\n",
    "    else:\n",
    "        second= (hours*60*60+minutes*60)\n",
    "        print(second)\n",
    "\n",
    "    "
   ]
  },
  {
   "cell_type": "code",
   "execution_count": null,
   "id": "a1cfa414",
   "metadata": {},
   "outputs": [],
   "source": []
  }
 ],
 "metadata": {
  "kernelspec": {
   "display_name": "Python 3 (ipykernel)",
   "language": "python",
   "name": "python3"
  },
  "language_info": {
   "codemirror_mode": {
    "name": "ipython",
    "version": 3
   },
   "file_extension": ".py",
   "mimetype": "text/x-python",
   "name": "python",
   "nbconvert_exporter": "python",
   "pygments_lexer": "ipython3",
   "version": "3.9.7"
  }
 },
 "nbformat": 4,
 "nbformat_minor": 5
}
